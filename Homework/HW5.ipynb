{
 "cells": [
  {
   "cell_type": "markdown",
   "id": "2e434af5-e7ea-4481-8db8-93aeb6821c09",
   "metadata": {
    "execution": {
     "iopub.execute_input": "2023-01-30T01:10:23.448807Z",
     "iopub.status.busy": "2023-01-30T01:10:23.447973Z",
     "iopub.status.idle": "2023-01-30T01:10:23.452882Z",
     "shell.execute_reply": "2023-01-30T01:10:23.452092Z",
     "shell.execute_reply.started": "2023-01-30T01:10:23.448782Z"
    }
   },
   "source": [
    "## ASTR 597A Homework 5\n",
    "Eric Bellm\n",
    "\n",
    "Due Feb 7, 2023"
   ]
  },
  {
   "cell_type": "markdown",
   "id": "47ca2b20-7e93-49dd-b179-5c807da364af",
   "metadata": {
    "execution": {
     "iopub.execute_input": "2023-01-30T01:10:37.231882Z",
     "iopub.status.busy": "2023-01-30T01:10:37.231002Z",
     "iopub.status.idle": "2023-01-30T01:10:37.235381Z",
     "shell.execute_reply": "2023-01-30T01:10:37.234794Z",
     "shell.execute_reply.started": "2023-01-30T01:10:37.231856Z"
    }
   },
   "source": [
    "Your name:\n",
    "    \n",
    "Your collaborators:"
   ]
  },
  {
   "cell_type": "markdown",
   "id": "92e4d753-d302-4171-9069-37a8774c40de",
   "metadata": {},
   "source": [
    "In this homework we will attempt to \"replicate\" a classic SDSS paper ([Baldry et al. 2004](https://ui.adsabs.harvard.edu/abs/2004ApJ...600..681B/abstract)) with simulated Rubin data. Plotting the absolute r-band magnitudes of low-redshift galaxies vs. their (u-r) colors shows clearly the red sequence, blue clump, and green valley populations.  We will investigate if the DP0.2 galaxies show the same distribution, explore the implications since we won't have (many) spectroscopic redshifts, and look at possible evolution with redshift..."
   ]
  },
  {
   "cell_type": "markdown",
   "id": "b86dbb2e-91b5-452a-85c2-edcee9719c36",
   "metadata": {},
   "source": [
    "Portions of this work were developed based on [this notebook](https://github.com/rubin-dp0/delegate-contributions-dp02/tree/main/photoz/CMNN_Estimator) by Melissa Graham."
   ]
  },
  {
   "cell_type": "markdown",
   "id": "b29eaddc-538c-4054-9600-1814117aec69",
   "metadata": {},
   "source": [
    "We will need to deal with \"k-corrections\" in order to convert our observer frame photometry to the rest frame.  See [Hogg et al. 2002](https://ui.adsabs.harvard.edu/abs/2002astro.ph.10394H/abstract) for a pedagogical overview.\n",
    "\n",
    "The python package `kcorrect` by Mike Blanton provides our easist way to deal with this.  The package documentation is [here](https://kcorrect.readthedocs.io/), the source code [here](https://github.com/blanton144/kcorrect), and the paper describing the algorithm is [here](https://ui.adsabs.harvard.edu/abs/2007AJ....133..734B/abstract)."
   ]
  },
  {
   "cell_type": "code",
   "execution_count": null,
   "id": "38eff967-e5b4-4a53-bfa1-d422111f3cdd",
   "metadata": {
    "tags": []
   },
   "outputs": [],
   "source": [
    "# As of Jan. 29, 2023, pypi version throws an error: install from github directly\n",
    "!pip install --user git+https://github.com/blanton144/kcorrect.git"
   ]
  },
  {
   "cell_type": "markdown",
   "id": "84cccee0-8df1-41de-a77d-96a40f09210b",
   "metadata": {},
   "source": [
    "## Exercise 1: Low-redshift galaxy CMD with LSST\n",
    "\n",
    "Plot the absolute r magnitude vs. rest-frame u-r color for 50,000 galaxies with z < 0.08."
   ]
  },
  {
   "cell_type": "code",
   "execution_count": null,
   "id": "76dddfba-0007-49e3-96b9-15ac6dd6f6f8",
   "metadata": {
    "tags": []
   },
   "outputs": [],
   "source": [
    "import numpy as np\n",
    "import matplotlib.pyplot as plt\n",
    "import pandas as pd\n",
    "import numpy.ma as ma"
   ]
  },
  {
   "cell_type": "code",
   "execution_count": null,
   "id": "6001747e-cb0e-4782-a3e4-81659d7ae9aa",
   "metadata": {
    "tags": []
   },
   "outputs": [],
   "source": [
    "from lsst.rsp import get_tap_service, retrieve_query\n",
    "service = get_tap_service()"
   ]
  },
  {
   "cell_type": "markdown",
   "id": "09eecf8d-6f17-4ede-b31f-f3cb5318c3da",
   "metadata": {},
   "source": [
    "Since we're going to need more columns than you might expect in this homework and the query is slow (~20 minutes), I'm going to provide the SQL query:"
   ]
  },
  {
   "cell_type": "code",
   "execution_count": null,
   "id": "c471ce41-0df6-4d02-82cc-7521843fb499",
   "metadata": {
    "tags": []
   },
   "outputs": [],
   "source": [
    "query = \"SELECT mt.id_truth_type AS mt_id_truth_type, \"\\\n",
    "        \"mt.match_objectId AS mt_match_objectId, \"\\\n",
    "        \"ts.truth_type AS ts_truth_type, \"\\\n",
    "        \"ts.redshift AS ts_redshift, \"\\\n",
    "        \"scisql_nanojanskyToAbMag(ts.flux_u) AS ts_mag_u, \"\\\n",
    "        \"scisql_nanojanskyToAbMag(ts.flux_g) AS ts_mag_g, \"\\\n",
    "        \"scisql_nanojanskyToAbMag(ts.flux_r) AS ts_mag_r, \"\\\n",
    "        \"scisql_nanojanskyToAbMag(ts.flux_i) AS ts_mag_i, \"\\\n",
    "        \"scisql_nanojanskyToAbMag(ts.flux_z) AS ts_mag_z, \"\\\n",
    "        \"scisql_nanojanskyToAbMag(ts.flux_y) AS ts_mag_y, \"\\\n",
    "        \"scisql_nanojanskyToAbMag(obj.u_cModelFlux) AS obj_cModelMag_u, \"\\\n",
    "        \"scisql_nanojanskyToAbMag(obj.g_cModelFlux) AS obj_cModelMag_g, \"\\\n",
    "        \"scisql_nanojanskyToAbMag(obj.r_cModelFlux) AS obj_cModelMag_r, \"\\\n",
    "        \"scisql_nanojanskyToAbMag(obj.i_cModelFlux) AS obj_cModelMag_i, \"\\\n",
    "        \"scisql_nanojanskyToAbMag(obj.z_cModelFlux) AS obj_cModelMag_z, \"\\\n",
    "        \"scisql_nanojanskyToAbMag(obj.y_cModelFlux) AS obj_cModelMag_y, \"\\\n",
    "        \"scisql_nanojanskyToAbMagSigma(obj.u_cModelFlux,obj.u_cModelFluxErr) AS obj_cModelMagErr_u, \"\\\n",
    "        \"scisql_nanojanskyToAbMagSigma(obj.g_cModelFlux,obj.g_cModelFluxErr) AS obj_cModelMagErr_g, \"\\\n",
    "        \"scisql_nanojanskyToAbMagSigma(obj.r_cModelFlux,obj.r_cModelFluxErr) AS obj_cModelMagErr_r, \"\\\n",
    "        \"scisql_nanojanskyToAbMagSigma(obj.i_cModelFlux,obj.i_cModelFluxErr) AS obj_cModelMagErr_i, \"\\\n",
    "        \"scisql_nanojanskyToAbMagSigma(obj.z_cModelFlux,obj.z_cModelFluxErr) AS obj_cModelMagErr_z, \"\\\n",
    "        \"scisql_nanojanskyToAbMagSigma(obj.y_cModelFlux,obj.y_cModelFluxErr) AS obj_cModelMagErr_y \"\\\n",
    "        \"FROM dp02_dc2_catalogs.MatchesTruth AS mt \"\\\n",
    "        \"JOIN dp02_dc2_catalogs.TruthSummary AS ts ON mt.id_truth_type = ts.id_truth_type \"\\\n",
    "        \"JOIN dp02_dc2_catalogs.Object AS obj ON mt.match_objectId = obj.objectId \"\\\n",
    "        \"WHERE ts.truth_type = 1 \"\\ \n",
    "        \"AND ts.redshift < 0.08 \"\\\n",
    "        \"LIMIT 50000\"\n",
    "print(query)"
   ]
  },
  {
   "cell_type": "code",
   "execution_count": null,
   "id": "5cdd678c-981d-48e3-8dc7-841f5d89cb6b",
   "metadata": {
    "tags": []
   },
   "outputs": [],
   "source": [
    "%%time\n",
    "job = service.submit_job(query)\n",
    "print('Job URL is', job.url)\n",
    "print('Job phase is', job.phase)\n",
    "job.run()\n",
    "job.wait(phases=['COMPLETED', 'ERROR'])\n",
    "print('Job phase is', job.phase)"
   ]
  },
  {
   "cell_type": "code",
   "execution_count": null,
   "id": "72090b5e-d221-4aef-801e-a86e63a73d18",
   "metadata": {
    "tags": []
   },
   "outputs": [],
   "source": [
    "#job.raise_if_error()"
   ]
  },
  {
   "cell_type": "code",
   "execution_count": null,
   "id": "b1c0ba8d-a3ec-43a4-b4a0-d6e14794f460",
   "metadata": {
    "tags": []
   },
   "outputs": [],
   "source": [
    "df = job.fetch_result().to_table().to_pandas()"
   ]
  },
  {
   "cell_type": "code",
   "execution_count": null,
   "id": "83f8f80f-750e-4dcd-8721-bf4d80c3b8c9",
   "metadata": {
    "tags": []
   },
   "outputs": [],
   "source": [
    "# since the query is slow let's save the results\n",
    "df.to_parquet('lowz_query_results.parquet')"
   ]
  },
  {
   "cell_type": "code",
   "execution_count": null,
   "id": "ec222889-b210-4098-86b3-f09bf5f55a5d",
   "metadata": {
    "tags": []
   },
   "outputs": [],
   "source": [
    "# reread from file if needed\n",
    "# df = pd.read_parquet('lowz_query_results.parquet')"
   ]
  },
  {
   "cell_type": "markdown",
   "id": "c2ac6848-2ecc-4931-a2c7-ce2bc42e6199",
   "metadata": {},
   "source": [
    "We now have the true redshifts and both true and \"observed\" magnitudes in all bands for sources we know are galaxies (`ts.truth_type == 1`; this is a bit of a cheat!).  To get the absolute magnitude we need the distance modulus and the k-correction (see the references above, or [here](https://kcorrect.readthedocs.io/en/5.0.0b/basics.html#) for a briefer overview).  (The rest-frame color requires the k-corrections as well.)  To use `kcorrect` we need to make some unit conversions."
   ]
  },
  {
   "cell_type": "markdown",
   "id": "ccdc3a8c-d7e3-49e4-9847-30fd0c50cfff",
   "metadata": {},
   "source": [
    "`kcorrect` doesn't have LSST bands in it at present, so we will use [DECam's filterset](https://noirlab.edu/science/programs/ctio/filters/Dark-Energy-Camera).  Take a moment to compare them to LSST's filters--are there significant differences?  "
   ]
  },
  {
   "cell_type": "code",
   "execution_count": null,
   "id": "ca2dc8a4-a9f2-4766-a1dd-23791d59cf91",
   "metadata": {
    "tags": []
   },
   "outputs": [],
   "source": [
    "import kcorrect.kcorrect\n",
    "\n",
    "responses = ['decam_u', 'decam_g', 'decam_r', 'decam_i', 'decam_z', 'decam_Y']\n",
    "kc = kcorrect.kcorrect.Kcorrect(responses=responses)"
   ]
  },
  {
   "cell_type": "markdown",
   "id": "264837ab-8ac5-4401-b8d7-232a9a7ed1d3",
   "metadata": {},
   "source": [
    "`kcorrect` wants inputs in units of maggies and their inverse variances, as numpy arrays with dimensions (objects x filters).  For convenience here is that conversion:"
   ]
  },
  {
   "cell_type": "code",
   "execution_count": null,
   "id": "3b2e1beb-b61d-4cf9-aff6-6dc70667287a",
   "metadata": {
    "tags": []
   },
   "outputs": [],
   "source": [
    "maggies = df[['obj_cModelMag_u', 'obj_cModelMag_g', 'obj_cModelMag_r',\n",
    "       'obj_cModelMag_i', 'obj_cModelMag_z', 'obj_cModelMag_y']].apply(\n",
    "    lambda x: 10.0 ** (-0.4 * x)).values\n",
    "maggies"
   ]
  },
  {
   "cell_type": "code",
   "execution_count": null,
   "id": "4105c234-0016-4092-a2ae-2bc1e7c874f0",
   "metadata": {
    "tags": []
   },
   "outputs": [],
   "source": [
    "ivars = df[['obj_cModelMagErr_u', 'obj_cModelMagErr_g', 'obj_cModelMagErr_r',\n",
    "       'obj_cModelMagErr_i', 'obj_cModelMagErr_z', 'obj_cModelMagErr_y']].apply(\n",
    "    lambda x: 1./ (0.4 * np.log(10) * x) ** 2.).values / (maggies**2.)\n",
    "ivars"
   ]
  },
  {
   "cell_type": "markdown",
   "id": "80cbefc9-7762-4126-b8bb-c171e536efdd",
   "metadata": {},
   "source": [
    "Now use `kcorrect` to compute the rest-frame absolute magnitude in r-band as well as the rest frame u-r color, and plot them.  Note that you'll need to exclude some rows with `NaN`s.\n",
    "\n",
    "Compare your result qualitatively to Figure 1 of Baldry et al. 2004."
   ]
  },
  {
   "cell_type": "markdown",
   "id": "39c92f5b-167b-471c-8326-dd2373ba306f",
   "metadata": {},
   "source": [
    "## Exercise 2: Removing a cheat\n",
    "\n",
    "We made two cheats above: we used the truth table to tell us which galaxies we have as well as their redshifts.  In SDSS those redshifts were obtained through spectroscopy, but for Rubin most redshifts will have to be obtained photometrically.\n",
    "\n",
    "Using the data from our query above, follow [this notebook](https://github.com/rubin-dp0/delegate-contributions-dp02/tree/main/photoz/CMNN_Estimator) by Melissa Graham to compute a very simple photo-z for these galaxies.  Plot the true redshift vs estimated photo-z, and then re-plot the CMD from Exercise 1 using photo-z rather than the true spectroscopic redshift."
   ]
  },
  {
   "cell_type": "code",
   "execution_count": null,
   "id": "484657a0-70a8-48b9-9dbe-1b7443f6bf83",
   "metadata": {},
   "outputs": [],
   "source": []
  },
  {
   "cell_type": "markdown",
   "id": "c515c97d-c564-4520-a8a6-627d5ee21c1c",
   "metadata": {},
   "source": [
    "## Exercise 3 (Optional): Hi-Z\n",
    "\n",
    "Repeat exercise 1 for a higher redshift range (z=1.5-2?) and see how the CMD changes."
   ]
  },
  {
   "cell_type": "code",
   "execution_count": null,
   "id": "0353c9ca-2db5-412c-ae52-f2cf60aba7db",
   "metadata": {},
   "outputs": [],
   "source": []
  }
 ],
 "metadata": {
  "kernelspec": {
   "display_name": "LSST",
   "language": "python",
   "name": "lsst"
  },
  "language_info": {
   "codemirror_mode": {
    "name": "ipython",
    "version": 3
   },
   "file_extension": ".py",
   "mimetype": "text/x-python",
   "name": "python",
   "nbconvert_exporter": "python",
   "pygments_lexer": "ipython3",
   "version": "3.10.5"
  }
 },
 "nbformat": 4,
 "nbformat_minor": 5
}
